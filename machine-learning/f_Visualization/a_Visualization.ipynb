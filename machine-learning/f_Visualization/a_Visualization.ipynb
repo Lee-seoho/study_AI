{
 "cells": [
  {
   "cell_type": "markdown",
   "id": "95af8fa2",
   "metadata": {},
   "source": [
    "### Visualization (시각화)\n",
    "\n",
    "##### 데이터의 유형\n",
    "1. 범주형(Categorical): 개체의 상태를 일정한 기준으로 구분하기 위해 사용한다, 숫자 또는 문자 형태의 값이다.\n",
    "- 명목형(Nominal): 개체의 상태를 분류하기 위해 사용하고 서열(순서)이 존재하지 않는 데이터, 예)상품 카테고리: 생활용품, 전자제품, 의류\n",
    "- 순위형(Ordinal): 개체의 상태를 분류하기 위해 사용하고 서열(순서)이 존재하는 데이터, 예)학생 수준: High, Medium, Low, 측정년도: 2020, 2021\n",
    "\n",
    "2. 집계형(Numerical): 개체의 상태를 정량적으로 표현하기 위해 사용한다. 숫자 형태의 값이다.\n",
    "- 이산형(Discrete): 유한 간격으로서, 소수점으로 나누어질 수 없는 형태이다, 예) 학번: 1, 2, 구매 횟수: 323, 453\n",
    "- 연속형(Continuos): 무한 간격으로서, 무한히 반복되는 소수점의 형태이다, 예) 가격: 1280.15648..., 식물의 높이: 10.25158...\n",
    "\n",
    "<img src=\"./images/visual01.png\" width=\"600\" style=\"margin-left:0\">\n",
    "<img src=\"./images/visual02.png\" width=\"600\" style=\"margin-left:0\">\n",
    "<img src=\"./images/visual03.png\" width=\"600\" style=\"margin-left:0\">\n",
    "\n",
    "##### 범주형 (상품 카테고리: 생활용품, 전자제품, 의류, 학생 수준: High, Medium, Low, 측정년도: 2020, 2021)\n",
    "- 바이올린 차트\n",
    "- 스캐터 플롯  \n",
    "- 막대 차트\n",
    "- 누적 막대 차트  \n",
    "\n",
    "##### 집계형 (학번: 1, 2, 구매 횟수: 323, 453, 가격: 1280.15648..., 식물의 높이: 10.25158...)\n",
    "- 막대그래프(숫자가 적을 경우)\n",
    "- 선그래프(숫자가 많을 경우)\n",
    "- 바이올린 차트\n",
    "- 스캐터 플롯  \n",
    "- 히스토그램\n",
    "- KDE"
   ]
  }
 ],
 "metadata": {
  "kernelspec": {
   "display_name": "Python 3 (ipykernel)",
   "language": "python",
   "name": "python3"
  },
  "language_info": {
   "codemirror_mode": {
    "name": "ipython",
    "version": 3
   },
   "file_extension": ".py",
   "mimetype": "text/x-python",
   "name": "python",
   "nbconvert_exporter": "python",
   "pygments_lexer": "ipython3",
   "version": "3.11.5"
  }
 },
 "nbformat": 4,
 "nbformat_minor": 5
}
