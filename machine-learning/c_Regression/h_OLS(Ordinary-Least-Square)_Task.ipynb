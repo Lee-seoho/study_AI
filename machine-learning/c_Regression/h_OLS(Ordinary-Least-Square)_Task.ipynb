{
 "cells": [
  {
   "cell_type": "markdown",
   "id": "6704a74a",
   "metadata": {},
   "source": [
    "### OSL(Ordinary Least Square) Task\n",
    "\n",
    "##### 서울 자전거 대여 수 분석\n",
    "\n",
    "- Date: 대여 날짜\n",
    "- Rented Bike Count: 대여 수\n",
    "- Hour: 대여 시간\n",
    "- Temperature(°C): 온도(섭씨)\n",
    "- Humidity(%): 습도 (%)\n",
    "- Wind speed (m/s): 풍속 (m/s)\n",
    "- Visibility (10m): 가시거리 (10m)\n",
    "- Dew point temperature(°C): 이슬점(°C), 이슬점이 낮으면 10~15°C 정도로 공기가 편안하게 느껴진다.\n",
    "- Solar Radiation (MJ/m2): 태양복사 (MJ/m2)\n",
    "- Rainfall(mm): 강우량/비 (mm)\n",
    "- Snowfall (cm): 강우량/눈 (cm)\n",
    "- Seasons: 계절\n",
    "- Holiday: 공휴일"
   ]
  },
  {
   "cell_type": "code",
   "execution_count": null,
   "id": "031a9ea0",
   "metadata": {},
   "outputs": [],
   "source": [
    "import chardet\n",
    "\n",
    "rawdata = open('./datasets/seoul_bicycle.csv', 'rb').read()\n",
    "result = chardet.detect(rawdata)\n",
    "charenc = result['encoding']\n",
    "charenc"
   ]
  },
  {
   "cell_type": "code",
   "execution_count": null,
   "id": "43fbea45",
   "metadata": {},
   "outputs": [],
   "source": [
    "import pandas as pd\n",
    "\n",
    "bicycle_df = pd.read_csv('./datasets/seoul_bicycle.csv', encoding='ISO-8859-1')\n",
    "bicycle_df"
   ]
  }
 ],
 "metadata": {
  "kernelspec": {
   "display_name": "Python 3 (ipykernel)",
   "language": "python",
   "name": "python3"
  },
  "language_info": {
   "codemirror_mode": {
    "name": "ipython",
    "version": 3
   },
   "file_extension": ".py",
   "mimetype": "text/x-python",
   "name": "python",
   "nbconvert_exporter": "python",
   "pygments_lexer": "ipython3",
   "version": "3.11.5"
  }
 },
 "nbformat": 4,
 "nbformat_minor": 5
}
