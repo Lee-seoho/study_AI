{
 "cells": [
  {
   "cell_type": "markdown",
   "id": "edf3d187",
   "metadata": {},
   "source": [
    "### Polynomial Regression (다항 회귀)\n",
    "- 하나의 종속변수와 여러 독립변수 사이의 관계를 분석하는 것은 다중 회귀(Mutlivariate Linear Regession)이며,  \n",
    "각 독립변수에 제곱을 추가하여 비선형 데이터를 선형 회귀 모델로 분석하는 것을 다항 회귀(Polynomial Regression)라고 한다.\n",
    "- 데이터 세트에 대해서 독립 변수와 종속 변수의 관계를 단순 선형 회귀로 표현하는 것 보다 다항 회귀 곡선형으로 표현하는 것이 예측성능이 좋다.\n",
    "<img src=\"./images/polynomial_regression01.png\" width=\"500\" style=\"margin:20px; margin-left:-20px\">\n",
    "---\n",
    "- 선형 회귀와 비선형 회귀를 나누는 기준은 회귀 계수이며, 독립변수의 차수가 증가하는 것은 치환을 통해 모두 선형회귀로 전환된다.\n",
    "- 선형 회귀식은 곡선 모형을 가질 수 있으며, 독립변수를 치환하였을 때 선형회귀 식이 된다면 모두 선형 회귀라고 한다.\n",
    "- 비선형 회귀에는 대표적으로 로지스틱 회귀가 있으며, 이는 확률을 사용하여 회귀가 아닌 분류에 활용된다.\n",
    "\n",
    "##### 선형 회귀식\n",
    "\n",
    "<img src=\"./images/polynomial_regression02.png\" width=\"300\" style=\"margin:20px; margin-left:40px\">\n",
    "\n",
    "##### 비선형 회귀식\n",
    "\n",
    "<img src=\"./images/polynomial_regression03.png\" width=\"240\" style=\"margin:20px; margin-left:20px\">"
   ]
  }
 ],
 "metadata": {
  "kernelspec": {
   "display_name": "Python 3 (ipykernel)",
   "language": "python",
   "name": "python3"
  },
  "language_info": {
   "codemirror_mode": {
    "name": "ipython",
    "version": 3
   },
   "file_extension": ".py",
   "mimetype": "text/x-python",
   "name": "python",
   "nbconvert_exporter": "python",
   "pygments_lexer": "ipython3",
   "version": "3.11.5"
  }
 },
 "nbformat": 4,
 "nbformat_minor": 5
}
