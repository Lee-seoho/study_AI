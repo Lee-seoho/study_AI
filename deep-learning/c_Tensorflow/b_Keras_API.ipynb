{
 "cells": [
  {
   "cell_type": "markdown",
   "id": "afa44c14",
   "metadata": {},
   "source": [
    "### Sequential API, Functional API\n",
    "\n",
    "#### Sequential API\n",
    "- Sequential API는 간단한 모델을 구현하기에 적합하고 단순하게 층을 쌓는 방식으로 쉽고 사용하기가 간단하다.\n",
    "- Sequential API는 단일 입력 및 출력만 있으므로 레이어를 공유하거나 여러 입력 또는 출력을 가질 수 있는 모델을 생성할 수 없다.\n",
    "\n",
    "#### Functional API\n",
    "- Functional API는 Sequential API로는 구현하기 어려운 복잡한 모델들을 구현할 수 있다.\n",
    "- 여러 개의 입력(multi-input) 및 출력(multi-output)을 가진 모델을 구현하거나,  \n",
    "층 간의 연결이나 연산을 하는 모델을 구현할 때에는 Functional API를 사용해야 한다.\n",
    "\n",
    "<img src=\"./images/functional_api.png\" width=\"400\" style=\"margin-left: 0\">\n"
   ]
  },
  {
   "cell_type": "markdown",
   "id": "f9a6f8bc",
   "metadata": {},
   "source": [
    "##### Sequential API"
   ]
  },
  {
   "cell_type": "code",
   "execution_count": 2,
   "id": "72e6395c",
   "metadata": {},
   "outputs": [],
   "source": [
    "# pip install tensorflow\n",
    "# conda install -c conda-forge wrapt"
   ]
  },
  {
   "cell_type": "code",
   "execution_count": 3,
   "id": "d29b99d1",
   "metadata": {},
   "outputs": [
    {
     "name": "stdout",
     "output_type": "stream",
     "text": [
      "(60000, 28, 28) (60000,)\n",
      "(10000, 28, 28) (10000,)\n"
     ]
    }
   ],
   "source": [
    "from tensorflow.keras.datasets import fashion_mnist\n",
    "\n",
    "(train_images, train_targets), (test_images, test_targets) = fashion_mnist.load_data()\n",
    "\n",
    "print(train_images.shape, train_targets.shape)\n",
    "print(test_images.shape, test_targets.shape)"
   ]
  },
  {
   "cell_type": "code",
   "execution_count": 4,
   "id": "4f4cc5c4",
   "metadata": {},
   "outputs": [
    {
     "name": "stdout",
     "output_type": "stream",
     "text": [
      "(60000, 28, 28) (60000,)\n",
      "(10000, 28, 28) (10000,)\n"
     ]
    }
   ],
   "source": [
    "import numpy as np\n",
    "\n",
    "(train_images, train_targets), (test_images, test_targets) = fashion_mnist.load_data()\n",
    "\n",
    "def get_preprocessed_data(images, targets):\n",
    "    images = np.array(images / 255.0, dtype=np.float32)\n",
    "    targets = np.array(targets, dtype=np.float32)\n",
    "    \n",
    "    return images, targets\n",
    "\n",
    "train_images, train_targets = get_preprocessed_data(train_images, train_targets)\n",
    "test_images, test_targets = get_preprocessed_data(test_images, test_targets)\n",
    "\n",
    "print(train_images.shape, train_targets.shape)\n",
    "print(test_images.shape, test_targets.shape)"
   ]
  },
  {
   "cell_type": "code",
   "execution_count": 5,
   "id": "81e0df86",
   "metadata": {},
   "outputs": [
    {
     "name": "stdout",
     "output_type": "stream",
     "text": [
      "Model: \"sequential\"\n",
      "_________________________________________________________________\n",
      " Layer (type)                Output Shape              Param #   \n",
      "=================================================================\n",
      " flatten (Flatten)           (None, 784)               0         \n",
      "                                                                 \n",
      " dense (Dense)               (None, 64)                50240     \n",
      "                                                                 \n",
      " dense_1 (Dense)             (None, 128)               8320      \n",
      "                                                                 \n",
      " dense_2 (Dense)             (None, 10)                1290      \n",
      "                                                                 \n",
      "=================================================================\n",
      "Total params: 59850 (233.79 KB)\n",
      "Trainable params: 59850 (233.79 KB)\n",
      "Non-trainable params: 0 (0.00 Byte)\n",
      "_________________________________________________________________\n"
     ]
    }
   ],
   "source": [
    "INPUT_SIZE = 28\n",
    "\n",
    "from tensorflow.keras.layers import Dense, Flatten\n",
    "from tensorflow.keras.models import Sequential\n",
    "\n",
    "# 전부 Dense layer라고 부른다.\n",
    "# 학습할 데이터 많으면 neuron의 개수를 더 많이 지정(예, 64, 128 등)하고 은닉층(hidden layer)수를 더 늘려도 되고,\n",
    "# 학습할 데이터가 적으면 neuron 수와 은닉층 수를 줄이는 것이 좋다.\n",
    "model = Sequential([\n",
    "#     전체 28 * 28(784)개의 feature로 flatten 진행\n",
    "#     첫 번째 Input layer\n",
    "    Flatten(input_shape=(INPUT_SIZE, INPUT_SIZE)),\n",
    "#     두 번째 hidden layer\n",
    "    Dense(64, activation='relu'),\n",
    "#      세 번째 hidden layer\n",
    "    Dense(128, activation='relu'),\n",
    "#     네 번째 output layer\n",
    "    Dense(10, activation='softmax')\n",
    "])\n",
    "\n",
    "model.summary()"
   ]
  },
  {
   "cell_type": "code",
   "execution_count": 6,
   "id": "430b2e5e",
   "metadata": {},
   "outputs": [],
   "source": [
    "from tensorflow.keras.optimizers import Adam\n",
    "from tensorflow.keras.losses import CategoricalCrossentropy\n",
    "from tensorflow.keras.metrics import Accuracy\n",
    "\n",
    "model.compile(optimizer=Adam(0.001), loss=CategoricalCrossentropy(), metrics=['accuracy'])"
   ]
  },
  {
   "cell_type": "code",
   "execution_count": 7,
   "id": "e44c9a01",
   "metadata": {},
   "outputs": [
    {
     "name": "stdout",
     "output_type": "stream",
     "text": [
      "(60000, 10) (10000, 10)\n"
     ]
    }
   ],
   "source": [
    "from tensorflow.keras.utils import to_categorical\n",
    "\n",
    "train_oh_targets = to_categorical(train_targets)\n",
    "test_oh_targets = to_categorical(test_targets)\n",
    "\n",
    "print(train_oh_targets.shape, test_oh_targets.shape)"
   ]
  },
  {
   "cell_type": "code",
   "execution_count": 8,
   "id": "95a573bb",
   "metadata": {},
   "outputs": [
    {
     "data": {
      "text/plain": [
       "(60000, 28, 28)"
      ]
     },
     "execution_count": 8,
     "metadata": {},
     "output_type": "execute_result"
    }
   ],
   "source": [
    "train_images.shape"
   ]
  },
  {
   "cell_type": "code",
   "execution_count": 9,
   "id": "f80c2a51",
   "metadata": {},
   "outputs": [
    {
     "name": "stdout",
     "output_type": "stream",
     "text": [
      "Epoch 1/20\n",
      "1875/1875 [==============================] - 4s 2ms/step - loss: 0.5015 - accuracy: 0.8199\n",
      "Epoch 2/20\n",
      "1875/1875 [==============================] - 3s 2ms/step - loss: 0.3737 - accuracy: 0.8631\n",
      "Epoch 3/20\n",
      "1875/1875 [==============================] - 3s 2ms/step - loss: 0.3374 - accuracy: 0.8755\n",
      "Epoch 4/20\n",
      "1875/1875 [==============================] - 3s 2ms/step - loss: 0.3154 - accuracy: 0.8836\n",
      "Epoch 5/20\n",
      "1875/1875 [==============================] - 3s 2ms/step - loss: 0.2982 - accuracy: 0.8888\n",
      "Epoch 6/20\n",
      "1875/1875 [==============================] - 3s 2ms/step - loss: 0.2850 - accuracy: 0.8933\n",
      "Epoch 7/20\n",
      "1875/1875 [==============================] - 3s 2ms/step - loss: 0.2722 - accuracy: 0.8984\n",
      "Epoch 8/20\n",
      "1875/1875 [==============================] - 3s 1ms/step - loss: 0.2604 - accuracy: 0.9026\n",
      "Epoch 9/20\n",
      "1875/1875 [==============================] - 3s 2ms/step - loss: 0.2527 - accuracy: 0.9044\n",
      "Epoch 10/20\n",
      "1875/1875 [==============================] - 3s 2ms/step - loss: 0.2438 - accuracy: 0.9076\n",
      "Epoch 11/20\n",
      "1875/1875 [==============================] - 3s 2ms/step - loss: 0.2366 - accuracy: 0.9105\n",
      "Epoch 12/20\n",
      "1875/1875 [==============================] - 3s 1ms/step - loss: 0.2287 - accuracy: 0.9131\n",
      "Epoch 13/20\n",
      "1875/1875 [==============================] - 3s 2ms/step - loss: 0.2233 - accuracy: 0.9137\n",
      "Epoch 14/20\n",
      "1875/1875 [==============================] - 3s 2ms/step - loss: 0.2171 - accuracy: 0.9179\n",
      "Epoch 15/20\n",
      "1875/1875 [==============================] - 3s 2ms/step - loss: 0.2104 - accuracy: 0.9201\n",
      "Epoch 16/20\n",
      "1875/1875 [==============================] - 3s 1ms/step - loss: 0.2055 - accuracy: 0.9212\n",
      "Epoch 17/20\n",
      "1875/1875 [==============================] - 3s 1ms/step - loss: 0.2006 - accuracy: 0.9230\n",
      "Epoch 18/20\n",
      "1875/1875 [==============================] - 3s 1ms/step - loss: 0.1954 - accuracy: 0.9243\n",
      "Epoch 19/20\n",
      "1875/1875 [==============================] - 3s 1ms/step - loss: 0.1906 - accuracy: 0.9270\n",
      "Epoch 20/20\n",
      "1875/1875 [==============================] - 3s 1ms/step - loss: 0.1861 - accuracy: 0.9290\n"
     ]
    }
   ],
   "source": [
    "history = model.fit(x=train_images, y=train_oh_targets, batch_size=32, epochs=20, verbose=1)"
   ]
  },
  {
   "cell_type": "code",
   "execution_count": 10,
   "id": "dcee73c1",
   "metadata": {},
   "outputs": [
    {
     "name": "stdout",
     "output_type": "stream",
     "text": [
      "[0.5014814138412476, 0.3737047612667084, 0.33739209175109863, 0.3153892457485199, 0.2981688380241394, 0.2850078046321869, 0.2721598446369171, 0.2604326605796814, 0.25269845128059387, 0.24384747445583344, 0.2365676313638687, 0.2286626249551773, 0.22326278686523438, 0.21706511080265045, 0.2104341983795166, 0.20546667277812958, 0.20061185956001282, 0.19538213312625885, 0.19063937664031982, 0.1861022263765335]\n",
      "================================================================================\n",
      "[0.8198666572570801, 0.8630666732788086, 0.8755333423614502, 0.883566677570343, 0.8888499736785889, 0.8932999968528748, 0.8983666896820068, 0.90256667137146, 0.9043999910354614, 0.9076499938964844, 0.9104666709899902, 0.9131166934967041, 0.9137499928474426, 0.9178833365440369, 0.9200999736785889, 0.9211500287055969, 0.922950029373169, 0.9242833256721497, 0.926966667175293, 0.9289500117301941]\n"
     ]
    }
   ],
   "source": [
    "print(history.history['loss'])\n",
    "print(\"=\" * 80)\n",
    "print(history.history['accuracy'])"
   ]
  },
  {
   "cell_type": "code",
   "execution_count": 11,
   "id": "486dc70a",
   "metadata": {},
   "outputs": [
    {
     "name": "stdout",
     "output_type": "stream",
     "text": [
      "1/1 [==============================] - 0s 62ms/step\n",
      "softmax output: [[2.6628660e-10 4.6659605e-09 3.2449057e-10 3.0120212e-11 2.5639054e-08\n",
      "  1.8534005e-06 2.3537368e-08 1.3192635e-03 3.3710290e-10 9.9867886e-01]]\n",
      "predicted target value: 9\n"
     ]
    }
   ],
   "source": [
    "pred_proba = model.predict(np.expand_dims(test_images[0], axis=0))\n",
    "print('softmax output:', pred_proba)\n",
    "pred = np.argmax(np.squeeze(pred_proba))\n",
    "print('predicted target value:', pred)"
   ]
  },
  {
   "cell_type": "code",
   "execution_count": 12,
   "id": "503ac254",
   "metadata": {},
   "outputs": [
    {
     "data": {
      "text/plain": [
       "Text(0.5, 1.0, '9. Ankle boot')"
      ]
     },
     "execution_count": 12,
     "metadata": {},
     "output_type": "execute_result"
    },
    {
     "data": {
      "image/png": "[encoded data removed]",
      "text/plain": [
       "<Figure size 640x480 with 1 Axes>"
      ]
     },
     "metadata": {},
     "output_type": "display_data"
    }
   ],
   "source": [
    "import matplotlib.pyplot as plt\n",
    "\n",
    "class_names = ['T-shirt/top', 'Trouser', 'Pullover', 'Dress', 'Coat','Sandal', 'Shirt', 'Sneaker', 'Bag', 'Ankle boot']\n",
    "plt.imshow(test_images[0], cmap='gray')\n",
    "plt.title(str(int(test_targets[0])) + '. ' + class_names[int(test_targets[0])])"
   ]
  },
  {
   "cell_type": "code",
   "execution_count": 13,
   "id": "b80762d2",
   "metadata": {},
   "outputs": [
    {
     "name": "stdout",
     "output_type": "stream",
     "text": [
      "313/313 [==============================] - 0s 1ms/step - loss: 0.3633 - accuracy: 0.8872\n"
     ]
    },
    {
     "data": {
      "text/plain": [
       "[0.3632783591747284, 0.8871999979019165]"
      ]
     },
     "execution_count": 13,
     "metadata": {},
     "output_type": "execute_result"
    }
   ],
   "source": [
    "model.evaluate(test_images, test_oh_targets, batch_size=32)"
   ]
  },
  {
   "cell_type": "markdown",
   "id": "991169f8",
   "metadata": {},
   "source": [
    "##### Validation Data\n",
    "- 훈련 데이터를 잘 맞추는 모델이 아니라, 학습에 사용하지 않은 테스트 데이터를 얼마나 잘 맞추는지가 목적이다.\n",
    "- 훈련 데이터로 모델을 만들고 검증 데이터로 성능을 평가한다.\n",
    "- 성능이 만족스럽다면, 해당 모델에 훈련 데이터와 검증 데이터를 합쳐서 학습 시킨 후 테스트 데이터를 넣어 확인한다.\n",
    "\n",
    "<img src=\"./images/validation.jpg\" width=\"500\" style=\"margin-left: 0\">"
   ]
  },
  {
   "cell_type": "code",
   "execution_count": 14,
   "id": "f2b5437e",
   "metadata": {},
   "outputs": [],
   "source": [
    "import numpy as np\n",
    "from tensorflow.keras.datasets import fashion_mnist\n",
    "\n",
    "(train_images, train_targets), (test_images, test_targets) = fashion_mnist.load_data()\n",
    "\n",
    "def get_preprocessed_data(images, targets):\n",
    "    images = np.array(images / 255.0, dtype=np.float32)\n",
    "    targets = np.array(targets, dtype=np.float32)\n",
    "    \n",
    "    return images, targets\n",
    "\n",
    "train_images, train_targets = get_preprocessed_data(train_images, train_targets)\n",
    "test_images, test_targets = get_preprocessed_data(test_images, test_targets)"
   ]
  },
  {
   "cell_type": "code",
   "execution_count": 15,
   "id": "65d9a4ad",
   "metadata": {},
   "outputs": [
    {
     "name": "stdout",
     "output_type": "stream",
     "text": [
      "(48000, 28, 28) (48000,) (12000, 28, 28) (12000,)\n",
      "(48000, 10) (12000, 10)\n"
     ]
    }
   ],
   "source": [
    "from sklearn.model_selection import train_test_split\n",
    "from tensorflow.keras.utils import to_categorical\n",
    "\n",
    "train_train_images, validation_images, train_train_targets, validation_targets = train_test_split(train_images, train_targets, test_size=0.2, stratify=train_targets, random_state=124)\n",
    "print(train_train_images.shape, train_train_targets.shape, validation_images.shape, validation_targets.shape)\n",
    "\n",
    "train_train_oh_targets = to_categorical(train_train_targets)\n",
    "validation_oh_targets = to_categorical(validation_targets)\n",
    "\n",
    "print(train_train_oh_targets.shape, validation_oh_targets.shape)"
   ]
  },
  {
   "cell_type": "code",
   "execution_count": 16,
   "id": "6551f16d",
   "metadata": {},
   "outputs": [],
   "source": [
    "from tensorflow.keras.layers import Dense, Flatten\n",
    "from tensorflow.keras.models import Sequential\n",
    "from tensorflow.keras.optimizers import Adam\n",
    "\n",
    "INPUT_SIZE = 28\n",
    "\n",
    "model = Sequential([\n",
    "    Flatten(input_shape=(INPUT_SIZE, INPUT_SIZE)),\n",
    "    Dense(64, activation='relu'),\n",
    "    Dense(128, activation='relu'),\n",
    "    Dense(10, activation='softmax')\n",
    "])\n",
    "\n",
    "model.compile(optimizer=Adam(0.001), loss=CategoricalCrossentropy(), metrics=['acc'])"
   ]
  },
  {
   "cell_type": "code",
   "execution_count": 17,
   "id": "65122af2",
   "metadata": {},
   "outputs": [
    {
     "name": "stdout",
     "output_type": "stream",
     "text": [
      "Epoch 1/20\n",
      "1500/1500 - 3s - loss: 0.5219 - acc: 0.8141 - val_loss: 0.4887 - val_acc: 0.8096 - 3s/epoch - 2ms/step\n",
      "Epoch 2/20\n",
      "1500/1500 - 2s - loss: 0.3824 - acc: 0.8598 - val_loss: 0.3708 - val_acc: 0.8644 - 2s/epoch - 2ms/step\n",
      "Epoch 3/20\n",
      "1500/1500 - 3s - loss: 0.3452 - acc: 0.8743 - val_loss: 0.3941 - val_acc: 0.8497 - 3s/epoch - 2ms/step\n",
      "Epoch 4/20\n",
      "1500/1500 - 3s - loss: 0.3233 - acc: 0.8800 - val_loss: 0.3351 - val_acc: 0.8788 - 3s/epoch - 2ms/step\n",
      "Epoch 5/20\n",
      "1500/1500 - 3s - loss: 0.3064 - acc: 0.8880 - val_loss: 0.3223 - val_acc: 0.8817 - 3s/epoch - 2ms/step\n",
      "Epoch 6/20\n",
      "1500/1500 - 2s - loss: 0.2903 - acc: 0.8914 - val_loss: 0.3269 - val_acc: 0.8832 - 2s/epoch - 2ms/step\n",
      "Epoch 7/20\n",
      "1500/1500 - 2s - loss: 0.2793 - acc: 0.8963 - val_loss: 0.3191 - val_acc: 0.8849 - 2s/epoch - 2ms/step\n",
      "Epoch 8/20\n",
      "1500/1500 - 3s - loss: 0.2689 - acc: 0.8998 - val_loss: 0.3015 - val_acc: 0.8928 - 3s/epoch - 2ms/step\n",
      "Epoch 9/20\n",
      "1500/1500 - 3s - loss: 0.2585 - acc: 0.9042 - val_loss: 0.3258 - val_acc: 0.8842 - 3s/epoch - 2ms/step\n",
      "Epoch 10/20\n",
      "1500/1500 - 2s - loss: 0.2482 - acc: 0.9071 - val_loss: 0.3413 - val_acc: 0.8802 - 2s/epoch - 2ms/step\n",
      "Epoch 11/20\n",
      "1500/1500 - 3s - loss: 0.2415 - acc: 0.9080 - val_loss: 0.2977 - val_acc: 0.8917 - 3s/epoch - 2ms/step\n",
      "Epoch 12/20\n",
      "1500/1500 - 2s - loss: 0.2317 - acc: 0.9120 - val_loss: 0.3269 - val_acc: 0.8825 - 2s/epoch - 2ms/step\n",
      "Epoch 13/20\n",
      "1500/1500 - 2s - loss: 0.2269 - acc: 0.9142 - val_loss: 0.3144 - val_acc: 0.8912 - 2s/epoch - 2ms/step\n",
      "Epoch 14/20\n",
      "1500/1500 - 3s - loss: 0.2200 - acc: 0.9162 - val_loss: 0.3225 - val_acc: 0.8867 - 3s/epoch - 2ms/step\n",
      "Epoch 15/20\n",
      "1500/1500 - 3s - loss: 0.2131 - acc: 0.9181 - val_loss: 0.3308 - val_acc: 0.8853 - 3s/epoch - 2ms/step\n",
      "Epoch 16/20\n",
      "1500/1500 - 3s - loss: 0.2043 - acc: 0.9212 - val_loss: 0.3260 - val_acc: 0.8877 - 3s/epoch - 2ms/step\n",
      "Epoch 17/20\n",
      "1500/1500 - 3s - loss: 0.2009 - acc: 0.9239 - val_loss: 0.3207 - val_acc: 0.8909 - 3s/epoch - 2ms/step\n",
      "Epoch 18/20\n",
      "1500/1500 - 3s - loss: 0.1958 - acc: 0.9258 - val_loss: 0.3257 - val_acc: 0.8910 - 3s/epoch - 2ms/step\n",
      "Epoch 19/20\n",
      "1500/1500 - 3s - loss: 0.1921 - acc: 0.9266 - val_loss: 0.3283 - val_acc: 0.8898 - 3s/epoch - 2ms/step\n",
      "Epoch 20/20\n",
      "1500/1500 - 3s - loss: 0.1835 - acc: 0.9303 - val_loss: 0.3339 - val_acc: 0.8898 - 3s/epoch - 2ms/step\n"
     ]
    }
   ],
   "source": [
    "history = model.fit(x=train_train_images, y=train_train_oh_targets, batch_size=32, validation_data=(validation_images, validation_oh_targets), epochs=20, verbose=2)"
   ]
  },
  {
   "cell_type": "code",
   "execution_count": 18,
   "id": "83edd26e",
   "metadata": {},
   "outputs": [
    {
     "name": "stdout",
     "output_type": "stream",
     "text": [
      "[0.5218536853790283, 0.382353276014328, 0.3452085852622986, 0.32328569889068604, 0.3063993453979492, 0.29029637575149536, 0.2792817950248718, 0.26888546347618103, 0.25852274894714355, 0.24817998707294464, 0.2414761334657669, 0.23173774778842926, 0.2268533557653427, 0.22001153230667114, 0.21312540769577026, 0.20425203442573547, 0.20094361901283264, 0.19578896462917328, 0.1920909285545349, 0.1835489720106125]\n",
      "================================================================================\n",
      "[0.8141041398048401, 0.8597916960716248, 0.8742916584014893, 0.8799791932106018, 0.8880416750907898, 0.8914166688919067, 0.8962708115577698, 0.8997708559036255, 0.9042083621025085, 0.9071041941642761, 0.9080416560173035, 0.9120000004768372, 0.914229154586792, 0.9162499904632568, 0.9180625081062317, 0.9212291836738586, 0.9238749742507935, 0.9258333444595337, 0.926604151725769, 0.9303125143051147]\n",
      "================================================================================\n",
      "[0.4886946678161621, 0.37082457542419434, 0.3940792977809906, 0.3351454436779022, 0.3223349153995514, 0.3268909156322479, 0.3190503418445587, 0.30146485567092896, 0.32579275965690613, 0.3413412272930145, 0.29773738980293274, 0.32688772678375244, 0.31440281867980957, 0.32246869802474976, 0.3308432996273041, 0.3260079622268677, 0.3207244873046875, 0.3257114291191101, 0.32832810282707214, 0.33386918902397156]\n",
      "================================================================================\n",
      "[0.809583306312561, 0.8644166588783264, 0.8496666550636292, 0.8787500262260437, 0.8816666603088379, 0.8831666707992554, 0.8849166631698608, 0.8928333520889282, 0.8841666579246521, 0.8801666498184204, 0.8917499780654907, 0.8824999928474426, 0.8911666870117188, 0.8867499828338623, 0.8853333592414856, 0.887666642665863, 0.890916645526886, 0.890999972820282, 0.8898333311080933, 0.8898333311080933]\n"
     ]
    }
   ],
   "source": [
    "print(history.history['loss'])\n",
    "print(\"=\" * 80)\n",
    "print(history.history['acc'])\n",
    "print(\"=\" * 80)\n",
    "print(history.history['val_loss'])\n",
    "print(\"=\" * 80)\n",
    "print(history.history['val_acc'])"
   ]
  },
  {
   "cell_type": "code",
   "execution_count": 19,
   "id": "c85e3572",
   "metadata": {},
   "outputs": [
    {
     "data": {
      "text/plain": [
       "<matplotlib.legend.Legend at 0x1ee016b5b90>"
      ]
     },
     "execution_count": 19,
     "metadata": {},
     "output_type": "execute_result"
    },
    {
     "data": {
      "image/png": "[encoded data removed]",
      "text/plain": [
       "<Figure size 640x480 with 1 Axes>"
      ]
     },
     "metadata": {},
     "output_type": "display_data"
    }
   ],
   "source": [
    "import matplotlib.pyplot as plt\n",
    "\n",
    "plt.plot(history.history['acc'], label='train')\n",
    "plt.plot(history.history['val_acc'], label='validation')\n",
    "plt.legend()"
   ]
  },
  {
   "cell_type": "code",
   "execution_count": 20,
   "id": "5716d3b5",
   "metadata": {},
   "outputs": [
    {
     "name": "stdout",
     "output_type": "stream",
     "text": [
      "1/1 [==============================] - 0s 42ms/step\n",
      "softmax output:  [[1.5941685e-08 1.6087103e-16 1.0131812e-09 4.4834703e-10 2.7775501e-13\n",
      "  1.0000000e+00 4.1857148e-10 4.9574045e-10 3.5443397e-12 4.3510494e-15]]\n",
      "predicted target value:  5\n"
     ]
    }
   ],
   "source": [
    "pred_proba = model.predict(np.expand_dims(test_images[8], axis=0))\n",
    "print('softmax output: ', pred_proba)\n",
    "pred = np.argmax(np.squeeze(pred_proba))\n",
    "print('predicted target value: ', pred)"
   ]
  },
  {
   "cell_type": "code",
   "execution_count": 21,
   "id": "034f9ce1",
   "metadata": {},
   "outputs": [
    {
     "data": {
      "text/plain": [
       "Text(0.5, 1.0, '5. Sandal')"
      ]
     },
     "execution_count": 21,
     "metadata": {},
     "output_type": "execute_result"
    },
    {
     "data": {
      "image/png": "[encoded data removed]",
      "text/plain": [
       "<Figure size 640x480 with 1 Axes>"
      ]
     },
     "metadata": {},
     "output_type": "display_data"
    }
   ],
   "source": [
    "import matplotlib.pyplot as plt\n",
    "\n",
    "class_names = ['T-shirt/top', 'Trouser', 'Pullover', 'Dress', 'Coat','Sandal', 'Shirt', 'Sneaker', 'Bag', 'Ankle boot']\n",
    "plt.imshow(test_images[8], cmap='gray')\n",
    "plt.title(str(int(test_targets[8])) + '. ' + class_names[int(test_targets[8])])"
   ]
  },
  {
   "cell_type": "code",
   "execution_count": 22,
   "id": "edda1c5b",
   "metadata": {},
   "outputs": [
    {
     "name": "stdout",
     "output_type": "stream",
     "text": [
      "313/313 [==============================] - 1s 1ms/step - loss: 0.3775 - acc: 0.8847\n"
     ]
    },
    {
     "data": {
      "text/plain": [
       "[0.3775312602519989, 0.8847000002861023]"
      ]
     },
     "execution_count": 22,
     "metadata": {},
     "output_type": "execute_result"
    }
   ],
   "source": [
    "model.evaluate(test_images, test_oh_targets, batch_size=32)"
   ]
  },
  {
   "cell_type": "markdown",
   "id": "d3ba114a",
   "metadata": {},
   "source": [
    "##### Functional API"
   ]
  },
  {
   "cell_type": "code",
   "execution_count": 23,
   "id": "49dee848",
   "metadata": {},
   "outputs": [
    {
     "name": "stdout",
     "output_type": "stream",
     "text": [
      "30\n"
     ]
    }
   ],
   "source": [
    "class Test:\n",
    "    def __call__(self, data):\n",
    "        return data + 10\n",
    "\n",
    "print(Test()(20))"
   ]
  },
  {
   "cell_type": "code",
   "execution_count": 24,
   "id": "e651b6df",
   "metadata": {},
   "outputs": [],
   "source": [
    "from tensorflow.keras.layers import Layer, Input, Dense, Flatten\n",
    "from tensorflow.keras.models import Model\n",
    "import tensorflow as tf\n",
    "\n",
    "INPUT_SIZE = 28\n",
    "\n",
    "def create_model():\n",
    "    input_tensor = Input(shape=(INPUT_SIZE, INPUT_SIZE))\n",
    "    x = Flatten()(input_tensor)\n",
    "    x = Dense(64, activation='relu')(x)\n",
    "    x = Dense(128, activation='relu')(x)\n",
    "    output = Dense(10, activation='softmax')(x)\n",
    "    \n",
    "    model = Model(inputs=input_tensor, outputs=output)\n",
    "    return model"
   ]
  },
  {
   "cell_type": "code",
   "execution_count": 25,
   "id": "36b3314a",
   "metadata": {},
   "outputs": [],
   "source": [
    "import numpy as np\n",
    "from tensorflow.keras.utils import to_categorical\n",
    "from sklearn.model_selection import train_test_split\n",
    "from tensorflow.keras.datasets import fashion_mnist\n",
    "\n",
    "(train_images, train_targets), (test_images, test_targets) = fashion_mnist.load_data()\n",
    "\n",
    "def get_preprocessed_data(images, targets):\n",
    "    images = np.array(images / 255.0, dtype=np.float32)\n",
    "    targets = np.array(targets, dtype=np.float32)\n",
    "    \n",
    "    return images, targets\n",
    "\n",
    "def get_preprocessed_ohe(images, targets):\n",
    "    images, targets = get_preprocessed_data(images, targets)\n",
    "    oh_targets = to_categorical(targets)\n",
    "    return images, oh_targets\n",
    "\n",
    "def get_train_valid_test(train_images, train_targets, test_images, test_targets, validation_size=0.2, random_state=124):\n",
    "    train_images, train_oh_targets = get_preprocessed_ohe(train_images, train_targets)\n",
    "    test_images, test_oh_targets = get_preprocessed_ohe(test_images, test_targets)\n",
    "    \n",
    "    train_train_images, validation_images, train_train_oh_targets, validation_oh_targets = \\\n",
    "    train_test_split(train_images, train_oh_targets, stratify=train_oh_targets, test_size=validation_size, random_state=random_state)\n",
    "    \n",
    "    return (train_train_images, train_train_oh_targets), (validation_images, validation_oh_targets), (test_images, test_oh_targets)"
   ]
  },
  {
   "cell_type": "code",
   "execution_count": 26,
   "id": "6f465bb7",
   "metadata": {},
   "outputs": [
    {
     "name": "stdout",
     "output_type": "stream",
     "text": [
      "(48000, 28, 28) (48000, 10)\n",
      "(12000, 28, 28) (12000, 10)\n",
      "(10000, 28, 28) (10000, 10)\n"
     ]
    }
   ],
   "source": [
    "from tensorflow.keras.datasets import fashion_mnist\n",
    "\n",
    "(train_images, train_targets), (test_images, test_targets) = fashion_mnist.load_data()\n",
    "\n",
    "(train_train_images, train_train_oh_targets), (validation_images, validation_oh_targets), (test_images, test_oh_targets) = \\\n",
    "get_train_valid_test(train_images, train_targets, test_images, test_targets)\n",
    "\n",
    "print(train_train_images.shape, train_train_oh_targets.shape)\n",
    "print(validation_images.shape, validation_oh_targets.shape)\n",
    "print(test_images.shape, test_oh_targets.shape)"
   ]
  },
  {
   "cell_type": "code",
   "execution_count": 27,
   "id": "41e3d0b3",
   "metadata": {},
   "outputs": [
    {
     "name": "stdout",
     "output_type": "stream",
     "text": [
      "Model: \"model\"\n",
      "_________________________________________________________________\n",
      " Layer (type)                Output Shape              Param #   \n",
      "=================================================================\n",
      " input_1 (InputLayer)        [(None, 28, 28)]          0         \n",
      "                                                                 \n",
      " flatten_2 (Flatten)         (None, 784)               0         \n",
      "                                                                 \n",
      " dense_6 (Dense)             (None, 64)                50240     \n",
      "                                                                 \n",
      " dense_7 (Dense)             (None, 128)               8320      \n",
      "                                                                 \n",
      " dense_8 (Dense)             (None, 10)                1290      \n",
      "                                                                 \n",
      "=================================================================\n",
      "Total params: 59850 (233.79 KB)\n",
      "Trainable params: 59850 (233.79 KB)\n",
      "Non-trainable params: 0 (0.00 Byte)\n",
      "_________________________________________________________________\n"
     ]
    }
   ],
   "source": [
    "from tensorflow.keras.optimizers import Adam\n",
    "\n",
    "model = create_model()\n",
    "model.summary()\n",
    "\n",
    "model.compile(optimizer=Adam(0.001), loss=CategoricalCrossentropy(), metrics=['acc'])"
   ]
  },
  {
   "cell_type": "code",
   "execution_count": 28,
   "id": "fac1102a",
   "metadata": {},
   "outputs": [
    {
     "name": "stdout",
     "output_type": "stream",
     "text": [
      "Epoch 1/20\n",
      "750/750 [==============================] - 2s 2ms/step - loss: 0.5481 - acc: 0.8066 - val_loss: 0.4125 - val_acc: 0.8504\n",
      "Epoch 2/20\n",
      "750/750 [==============================] - 1s 2ms/step - loss: 0.3938 - acc: 0.8563 - val_loss: 0.3990 - val_acc: 0.8498\n",
      "Epoch 3/20\n",
      "750/750 [==============================] - 1s 2ms/step - loss: 0.3532 - acc: 0.8716 - val_loss: 0.3570 - val_acc: 0.8658\n",
      "Epoch 4/20\n",
      "750/750 [==============================] - 2s 3ms/step - loss: 0.3305 - acc: 0.8784 - val_loss: 0.3454 - val_acc: 0.8734\n",
      "Epoch 5/20\n",
      "750/750 [==============================] - 1s 2ms/step - loss: 0.3080 - acc: 0.8881 - val_loss: 0.3390 - val_acc: 0.8758\n",
      "Epoch 6/20\n",
      "750/750 [==============================] - 1s 2ms/step - loss: 0.2961 - acc: 0.8903 - val_loss: 0.3354 - val_acc: 0.8750\n",
      "Epoch 7/20\n",
      "750/750 [==============================] - 1s 2ms/step - loss: 0.2812 - acc: 0.8953 - val_loss: 0.3109 - val_acc: 0.8855\n",
      "Epoch 8/20\n",
      "750/750 [==============================] - 1s 2ms/step - loss: 0.2674 - acc: 0.9011 - val_loss: 0.3200 - val_acc: 0.8860\n",
      "Epoch 9/20\n",
      "750/750 [==============================] - 1s 2ms/step - loss: 0.2582 - acc: 0.9036 - val_loss: 0.3331 - val_acc: 0.8783\n",
      "Epoch 10/20\n",
      "750/750 [==============================] - 2s 2ms/step - loss: 0.2501 - acc: 0.9065 - val_loss: 0.3596 - val_acc: 0.8733\n",
      "Epoch 11/20\n",
      "750/750 [==============================] - 2s 2ms/step - loss: 0.2438 - acc: 0.9081 - val_loss: 0.3256 - val_acc: 0.8858\n",
      "Epoch 12/20\n",
      "750/750 [==============================] - 2s 2ms/step - loss: 0.2336 - acc: 0.9118 - val_loss: 0.3254 - val_acc: 0.8834\n",
      "Epoch 13/20\n",
      "750/750 [==============================] - 1s 2ms/step - loss: 0.2281 - acc: 0.9137 - val_loss: 0.3143 - val_acc: 0.8885\n",
      "Epoch 14/20\n",
      "750/750 [==============================] - 1s 2ms/step - loss: 0.2194 - acc: 0.9178 - val_loss: 0.3530 - val_acc: 0.8791\n",
      "Epoch 15/20\n",
      "750/750 [==============================] - 2s 2ms/step - loss: 0.2118 - acc: 0.9206 - val_loss: 0.3150 - val_acc: 0.8917\n",
      "Epoch 16/20\n",
      "750/750 [==============================] - 1s 2ms/step - loss: 0.2065 - acc: 0.9237 - val_loss: 0.3399 - val_acc: 0.8827\n",
      "Epoch 17/20\n",
      "750/750 [==============================] - 1s 2ms/step - loss: 0.2028 - acc: 0.9231 - val_loss: 0.3229 - val_acc: 0.8892\n",
      "Epoch 18/20\n",
      "750/750 [==============================] - 1s 2ms/step - loss: 0.1934 - acc: 0.9270 - val_loss: 0.3544 - val_acc: 0.8798\n",
      "Epoch 19/20\n",
      "750/750 [==============================] - 1s 2ms/step - loss: 0.1887 - acc: 0.9287 - val_loss: 0.3428 - val_acc: 0.8869\n",
      "Epoch 20/20\n",
      "750/750 [==============================] - 1s 2ms/step - loss: 0.1856 - acc: 0.9297 - val_loss: 0.3395 - val_acc: 0.8903\n"
     ]
    }
   ],
   "source": [
    "history = model.fit(\n",
    "    x=train_train_images, \n",
    "    y=train_train_oh_targets, \n",
    "    batch_size=64, \n",
    "    epochs=20, \n",
    "    validation_data=(validation_images, validation_oh_targets))"
   ]
  },
  {
   "cell_type": "code",
   "execution_count": 29,
   "id": "7bd42e26",
   "metadata": {},
   "outputs": [
    {
     "data": {
      "image/png": "[encoded data removed]",
      "text/plain": [
       "<Figure size 640x480 with 1 Axes>"
      ]
     },
     "metadata": {},
     "output_type": "display_data"
    }
   ],
   "source": [
    "import matplotlib.pyplot as plt\n",
    "\n",
    "def show_history(history):\n",
    "    plt.plot(history.history['acc'], label='train')\n",
    "    plt.plot(history.history['val_acc'], label='validation')\n",
    "    plt.legend()\n",
    "\n",
    "show_history(history)"
   ]
  },
  {
   "cell_type": "code",
   "execution_count": 30,
   "id": "9f5d7d9c",
   "metadata": {},
   "outputs": [
    {
     "name": "stdout",
     "output_type": "stream",
     "text": [
      "1/1 [==============================] - 0s 51ms/step\n",
      "softmax output:  [[4.4669206e-03 1.4793113e-05 1.2641985e-04 9.9152792e-01 3.0515236e-03\n",
      "  1.3572917e-07 8.0129341e-04 2.4714899e-09 1.0916790e-05 2.2616522e-08]]\n",
      "predicted target value:  3\n"
     ]
    }
   ],
   "source": [
    "pred_proba = model.predict(np.expand_dims(test_images[124], axis=0))\n",
    "print('softmax output: ', pred_proba)\n",
    "pred = np.argmax(np.squeeze(pred_proba))\n",
    "print('predicted target value: ', pred)"
   ]
  },
  {
   "cell_type": "code",
   "execution_count": 31,
   "id": "f4575257",
   "metadata": {},
   "outputs": [
    {
     "data": {
      "text/plain": [
       "Text(0.5, 1.0, '3. Dress')"
      ]
     },
     "execution_count": 31,
     "metadata": {},
     "output_type": "execute_result"
    },
    {
     "data": {
      "image/png": "[encoded data removed]",
      "text/plain": [
       "<Figure size 640x480 with 1 Axes>"
      ]
     },
     "metadata": {},
     "output_type": "display_data"
    }
   ],
   "source": [
    "import matplotlib.pyplot as plt\n",
    "\n",
    "class_names = ['T-shirt/top', 'Trouser', 'Pullover', 'Dress', 'Coat','Sandal', 'Shirt', 'Sneaker', 'Bag', 'Ankle boot']\n",
    "plt.imshow(test_images[124], cmap='gray')\n",
    "plt.title(str(int(test_targets[124])) + '. ' + class_names[int(test_targets[124])])"
   ]
  },
  {
   "cell_type": "code",
   "execution_count": 32,
   "id": "9139034d",
   "metadata": {},
   "outputs": [
    {
     "name": "stdout",
     "output_type": "stream",
     "text": [
      "157/157 [==============================] - 0s 1ms/step - loss: 0.3762 - acc: 0.8839\n"
     ]
    },
    {
     "data": {
      "text/plain": [
       "[0.376186728477478, 0.883899986743927]"
      ]
     },
     "execution_count": 32,
     "metadata": {},
     "output_type": "execute_result"
    }
   ],
   "source": [
    "model.evaluate(test_images, test_oh_targets, batch_size=64)"
   ]
  }
 ],
 "metadata": {
  "kernelspec": {
   "display_name": "Python 3 (ipykernel)",
   "language": "python",
   "name": "python3"
  },
  "language_info": {
   "codemirror_mode": {
    "name": "ipython",
    "version": 3
   },
   "file_extension": ".py",
   "mimetype": "text/x-python",
   "name": "python",
   "nbconvert_exporter": "python",
   "pygments_lexer": "ipython3",
   "version": "3.11.5"
  }
 },
 "nbformat": 4,
 "nbformat_minor": 5
}
