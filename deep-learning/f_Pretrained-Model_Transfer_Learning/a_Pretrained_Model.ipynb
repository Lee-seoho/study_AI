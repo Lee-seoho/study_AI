{
 "cells": [
  {
   "cell_type": "markdown",
   "id": "991b781c",
   "metadata": {},
   "source": [
    "### Pretrained Model\n",
    "- 모델을 처음부터 학습하면 오랜시간 학습을 해야한다. 이를 위해 대규모 학습 데이터 기반으로 사전에 훈련된 모델(Pretrained Model)을 활용한다.\n",
    "- 대규모 데이터 세트에서 훈련되고 저장된 네트워크로서, 일반적으로 대규모 이미지 분류 작업에서 훈련된 것을 의미한다.\n",
    "- 입력 이미지는 대부분 244 * 244 크기이며, 모델 별로 다를 수 있다.\n",
    "- 자동차나 고양이를 포함한 1000개의 클래스, 총 1400만개의 이미지로 구성된 ImageNet 데이터 세트로 사전 훈련되었다.\n",
    "<img src=\"./images/pretrained_model.png\" style=\"margin-left: 0\">  \n",
    "\n",
    "### ImageNet Large Scale Visual Recognition Challenge (ILSVRC)\n",
    "- 2017년까지 대회가 주최되었으며, 이후에도 좋은 모델들이 등장했고, 앞으로도 계속 등장할 것이다.\n",
    "- 메이저 플레이어들(구글, 마이크로소프트, 페이스북)이 만들어놓은 모델들도 등장했다.\n",
    "<img src=\"./images/ILSVRC.png\" style=\"margin:20px; margin-left: 0\">"
   ]
  },
  {
   "cell_type": "code",
   "execution_count": 3,
   "id": "3f874ad0",
   "metadata": {},
   "outputs": [
    {
     "name": "stdout",
     "output_type": "stream",
     "text": [
      "Model: \"vgg16\"\n",
      "_________________________________________________________________\n",
      " Layer (type)                Output Shape              Param #   \n",
      "=================================================================\n",
      " input_3 (InputLayer)        [(None, None, None, 3)]   0         \n",
      "                                                                 \n",
      " block1_conv1 (Conv2D)       (None, None, None, 64)    1792      \n",
      "                                                                 \n",
      " block1_conv2 (Conv2D)       (None, None, None, 64)    36928     \n",
      "                                                                 \n",
      " block1_pool (MaxPooling2D)  (None, None, None, 64)    0         \n",
      "                                                                 \n",
      " block2_conv1 (Conv2D)       (None, None, None, 128)   73856     \n",
      "                                                                 \n",
      " block2_conv2 (Conv2D)       (None, None, None, 128)   147584    \n",
      "                                                                 \n",
      " block2_pool (MaxPooling2D)  (None, None, None, 128)   0         \n",
      "                                                                 \n",
      " block3_conv1 (Conv2D)       (None, None, None, 256)   295168    \n",
      "                                                                 \n",
      " block3_conv2 (Conv2D)       (None, None, None, 256)   590080    \n",
      "                                                                 \n",
      " block3_conv3 (Conv2D)       (None, None, None, 256)   590080    \n",
      "                                                                 \n",
      " block3_pool (MaxPooling2D)  (None, None, None, 256)   0         \n",
      "                                                                 \n",
      " block4_conv1 (Conv2D)       (None, None, None, 512)   1180160   \n",
      "                                                                 \n",
      " block4_conv2 (Conv2D)       (None, None, None, 512)   2359808   \n",
      "                                                                 \n",
      " block4_conv3 (Conv2D)       (None, None, None, 512)   2359808   \n",
      "                                                                 \n",
      " block4_pool (MaxPooling2D)  (None, None, None, 512)   0         \n",
      "                                                                 \n",
      " block5_conv1 (Conv2D)       (None, None, None, 512)   2359808   \n",
      "                                                                 \n",
      " block5_conv2 (Conv2D)       (None, None, None, 512)   2359808   \n",
      "                                                                 \n",
      " block5_conv3 (Conv2D)       (None, None, None, 512)   2359808   \n",
      "                                                                 \n",
      " block5_pool (MaxPooling2D)  (None, None, None, 512)   0         \n",
      "                                                                 \n",
      "=================================================================\n",
      "Total params: 14714688 (56.13 MB)\n",
      "Trainable params: 14714688 (56.13 MB)\n",
      "Non-trainable params: 0 (0.00 Byte)\n",
      "_________________________________________________________________\n"
     ]
    }
   ],
   "source": [
    "from tensorflow.keras.applications.vgg16 import VGG16\n",
    "\n",
    "model = VGG16(include_top=False, weights='imagenet')\n",
    "model.summary()"
   ]
  },
  {
   "cell_type": "code",
   "execution_count": 13,
   "id": "ff1f1373",
   "metadata": {},
   "outputs": [
    {
     "name": "stdout",
     "output_type": "stream",
     "text": [
      "1/1 [==============================] - 0s 236ms/step\n",
      "hamster: 47.4437%\n"
     ]
    }
   ],
   "source": [
    "import numpy as np\n",
    "from tensorflow.keras.preprocessing.image import load_img\n",
    "from tensorflow.keras.preprocessing.image import img_to_array\n",
    "from tensorflow.keras.applications.vgg16 import decode_predictions\n",
    "\n",
    "model = VGG16(weights='imagenet')\n",
    "image = load_img('./datasets/hamster.jpg', target_size=(224, 224))\n",
    "image = img_to_array(image)\n",
    "\n",
    "# 4차원으로 변경\n",
    "image = np.expand_dims(image, axis=0)\n",
    "pred = model.predict(image)\n",
    "\n",
    "target = decode_predictions(pred)\n",
    "print('{}: {:.4f}%'.format(target[0][0][1], target[0][0][2] * 100))"
   ]
  },
  {
   "cell_type": "code",
   "execution_count": 15,
   "id": "c4f6bd78",
   "metadata": {},
   "outputs": [
    {
     "name": "stdout",
     "output_type": "stream",
     "text": [
      "1/1 [==============================] - 0s 296ms/step\n",
      "[[('n03935335', 'piggy_bank', 0.21393228), ('n04423845', 'thimble', 0.1966811), ('n04399382', 'teddy', 0.12815271), ('n02085620', 'Chihuahua', 0.026321322), ('n02113624', 'toy_poodle', 0.022294933)]]\n",
      "piggy_bank: 21.3932%\n"
     ]
    }
   ],
   "source": [
    "import numpy as np\n",
    "from tensorflow.keras.preprocessing.image import load_img\n",
    "from tensorflow.keras.preprocessing.image import img_to_array\n",
    "from tensorflow.keras.applications.vgg16 import decode_predictions\n",
    "\n",
    "model = VGG16(weights='imagenet')\n",
    "image = load_img('./datasets/dog.jpg', target_size=(224, 224))\n",
    "image = img_to_array(image)\n",
    "\n",
    "# 4차원으로 변경\n",
    "image = np.expand_dims(image, axis=0)\n",
    "pred = model.predict(image)\n",
    "\n",
    "target = decode_predictions(pred)\n",
    "\n",
    "print(target)\n",
    "\n",
    "print('{}: {:.4f}%'.format(target[0][0][1], target[0][0][2] * 100))"
   ]
  }
 ],
 "metadata": {
  "kernelspec": {
   "display_name": "Python 3 (ipykernel)",
   "language": "python",
   "name": "python3"
  },
  "language_info": {
   "codemirror_mode": {
    "name": "ipython",
    "version": 3
   },
   "file_extension": ".py",
   "mimetype": "text/x-python",
   "name": "python",
   "nbconvert_exporter": "python",
   "pygments_lexer": "ipython3",
   "version": "3.11.5"
  }
 },
 "nbformat": 4,
 "nbformat_minor": 5
}
