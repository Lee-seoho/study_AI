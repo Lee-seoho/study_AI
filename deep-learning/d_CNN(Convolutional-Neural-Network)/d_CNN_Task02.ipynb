{
 "cells": [
  {
   "cell_type": "markdown",
   "id": "0f644b9d",
   "metadata": {},
   "source": [
    "### CNN_Task02\n",
    "\n",
    "##### 표정 분류\n",
    "\n",
    "https://drive.google.com/file/d/1lpwQNwijBfaSr8knSNHKWu5KUmzYWU9d/view?usp=drive_link"
   ]
  },
  {
   "cell_type": "code",
   "execution_count": 4,
   "id": "5480799f",
   "metadata": {},
   "outputs": [
    {
     "name": "stdout",
     "output_type": "stream",
     "text": [
      "Found 28709 images belonging to 7 classes.\n",
      "{'angry': 0, 'disgust': 1, 'fear': 2, 'happy': 3, 'neutral': 4, 'sad': 5, 'surprise': 6}\n",
      "[0 0 0 ... 6 6 6]\n"
     ]
    }
   ],
   "source": [
    "from tensorflow.keras.preprocessing.image import ImageDataGenerator\n",
    "\n",
    "root = './datasets/face/original/'\n",
    "\n",
    "image_data_generator = ImageDataGenerator(rescale=1./255)\n",
    "generator = image_data_generator.flow_from_directory(root, target_size=(150, 150), batch_size=20, class_mode='categorical')\n",
    "\n",
    "print(generator.class_indices)\n",
    "print(generator.classes)"
   ]
  },
  {
   "cell_type": "code",
   "execution_count": 8,
   "id": "c156684c",
   "metadata": {},
   "outputs": [
    {
     "data": {
      "text/html": [
       "<div>\n",
       "<style scoped>\n",
       "    .dataframe tbody tr th:only-of-type {\n",
       "        vertical-align: middle;\n",
       "    }\n",
       "\n",
       "    .dataframe tbody tr th {\n",
       "        vertical-align: top;\n",
       "    }\n",
       "\n",
       "    .dataframe thead th {\n",
       "        text-align: right;\n",
       "    }\n",
       "</style>\n",
       "<table border=\"1\" class=\"dataframe\">\n",
       "  <thead>\n",
       "    <tr style=\"text-align: right;\">\n",
       "      <th></th>\n",
       "      <th>file_paths</th>\n",
       "      <th>targets</th>\n",
       "    </tr>\n",
       "  </thead>\n",
       "  <tbody>\n",
       "    <tr>\n",
       "      <th>0</th>\n",
       "      <td>./datasets/face/original/angry/Training_101184...</td>\n",
       "      <td>0</td>\n",
       "    </tr>\n",
       "    <tr>\n",
       "      <th>1</th>\n",
       "      <td>./datasets/face/original/angry/Training_101204...</td>\n",
       "      <td>0</td>\n",
       "    </tr>\n",
       "    <tr>\n",
       "      <th>2</th>\n",
       "      <td>./datasets/face/original/angry/Training_101313...</td>\n",
       "      <td>0</td>\n",
       "    </tr>\n",
       "    <tr>\n",
       "      <th>3</th>\n",
       "      <td>./datasets/face/original/angry/Training_101615...</td>\n",
       "      <td>0</td>\n",
       "    </tr>\n",
       "    <tr>\n",
       "      <th>4</th>\n",
       "      <td>./datasets/face/original/angry/Training_102183...</td>\n",
       "      <td>0</td>\n",
       "    </tr>\n",
       "    <tr>\n",
       "      <th>...</th>\n",
       "      <td>...</td>\n",
       "      <td>...</td>\n",
       "    </tr>\n",
       "    <tr>\n",
       "      <th>28704</th>\n",
       "      <td>./datasets/face/original/surprise/Training_999...</td>\n",
       "      <td>6</td>\n",
       "    </tr>\n",
       "    <tr>\n",
       "      <th>28705</th>\n",
       "      <td>./datasets/face/original/surprise/Training_999...</td>\n",
       "      <td>6</td>\n",
       "    </tr>\n",
       "    <tr>\n",
       "      <th>28706</th>\n",
       "      <td>./datasets/face/original/surprise/Training_999...</td>\n",
       "      <td>6</td>\n",
       "    </tr>\n",
       "    <tr>\n",
       "      <th>28707</th>\n",
       "      <td>./datasets/face/original/surprise/Training_999...</td>\n",
       "      <td>6</td>\n",
       "    </tr>\n",
       "    <tr>\n",
       "      <th>28708</th>\n",
       "      <td>./datasets/face/original/surprise/Training_999...</td>\n",
       "      <td>6</td>\n",
       "    </tr>\n",
       "  </tbody>\n",
       "</table>\n",
       "<p>28709 rows × 2 columns</p>\n",
       "</div>"
      ],
      "text/plain": [
       "                                              file_paths  targets\n",
       "0      ./datasets/face/original/angry/Training_101184...        0\n",
       "1      ./datasets/face/original/angry/Training_101204...        0\n",
       "2      ./datasets/face/original/angry/Training_101313...        0\n",
       "3      ./datasets/face/original/angry/Training_101615...        0\n",
       "4      ./datasets/face/original/angry/Training_102183...        0\n",
       "...                                                  ...      ...\n",
       "28704  ./datasets/face/original/surprise/Training_999...        6\n",
       "28705  ./datasets/face/original/surprise/Training_999...        6\n",
       "28706  ./datasets/face/original/surprise/Training_999...        6\n",
       "28707  ./datasets/face/original/surprise/Training_999...        6\n",
       "28708  ./datasets/face/original/surprise/Training_999...        6\n",
       "\n",
       "[28709 rows x 2 columns]"
      ]
     },
     "execution_count": 8,
     "metadata": {},
     "output_type": "execute_result"
    }
   ],
   "source": [
    "import pandas as pd\n",
    "\n",
    "face_df = pd.DataFrame({'file_paths': generator.filepaths, 'targets': generator.classes})\n",
    "face_df.file_paths = face_df.file_paths.apply(lambda file_path: file_path.replace('\\\\', '/'))\n",
    "face_df"
   ]
  },
  {
   "cell_type": "code",
   "execution_count": 12,
   "id": "85429237",
   "metadata": {},
   "outputs": [
    {
     "name": "stdout",
     "output_type": "stream",
     "text": [
      "targets\n",
      "3    5772\n",
      "4    3972\n",
      "5    3864\n",
      "2    3277\n",
      "0    3196\n",
      "6    2537\n",
      "1     349\n",
      "Name: count, dtype: int64\n",
      "targets\n",
      "3    1443\n",
      "4     993\n",
      "5     966\n",
      "2     820\n",
      "0     799\n",
      "6     634\n",
      "1      87\n",
      "Name: count, dtype: int64\n"
     ]
    }
   ],
   "source": [
    "from sklearn.model_selection import train_test_split\n",
    "\n",
    "train_images, validation_images, train_targets, validation_targets = train_test_split(face_df.file_paths, face_df.targets, stratify=face_df.targets, test_size=0.2, random_state=124)\n",
    "print(train_targets.value_counts())\n",
    "print(validation_targets.value_counts())"
   ]
  },
  {
   "cell_type": "code",
   "execution_count": 20,
   "id": "3bb9fb48",
   "metadata": {},
   "outputs": [],
   "source": [
    "import shutil\n",
    "import os.path\n",
    "\n",
    "root = './datasets/face/'\n",
    "\n",
    "for file_path in train_images:\n",
    "    face_dir = file_path[file_path.find('original/') + 9: file_path.rindex('/') + 1]\n",
    "    destination = os.path.join(root + 'train/', face_dir)\n",
    "    \n",
    "    if not os.path.exists(destination):\n",
    "        os.mkdir(destination)\n",
    "    \n",
    "    shutil.copy2(file_path, destination)"
   ]
  },
  {
   "cell_type": "code",
   "execution_count": 21,
   "id": "78321f37",
   "metadata": {},
   "outputs": [],
   "source": [
    "import shutil\n",
    "import os.path\n",
    "\n",
    "root = './datasets/face/'\n",
    "\n",
    "for file_path in validation_images:\n",
    "    face_dir = file_path[file_path.find('original/') + 9: file_path.rindex('/') + 1]\n",
    "    destination = os.path.join(root + 'validation/', face_dir)\n",
    "    \n",
    "    if not os.path.exists(destination):\n",
    "        os.mkdir(destination)\n",
    "    \n",
    "    shutil.copy2(file_path, destination)"
   ]
  }
 ],
 "metadata": {
  "kernelspec": {
   "display_name": "Python 3 (ipykernel)",
   "language": "python",
   "name": "python3"
  },
  "language_info": {
   "codemirror_mode": {
    "name": "ipython",
    "version": 3
   },
   "file_extension": ".py",
   "mimetype": "text/x-python",
   "name": "python",
   "nbconvert_exporter": "python",
   "pygments_lexer": "ipython3",
   "version": "3.11.5"
  }
 },
 "nbformat": 4,
 "nbformat_minor": 5
}
