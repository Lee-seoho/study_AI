{
 "cells": [
  {
   "cell_type": "markdown",
   "id": "f6b80e20",
   "metadata": {},
   "source": [
    "### Multi Layer Perceptron, 다층 퍼셉트론, 다중 퍼셉트론\n",
    "- 보다 복잡한 문제의 해결을 위해서 입력층(Input Layer)과 출력층(Output Layer) 사이에 은닉층(Hidden Layer)이 포함되어 있다.\n",
    "- 퍼셉트론을 여러층 쌓은 인공 신경망으로서, 각 층에서는 활성함수를 통해 입력을 처리한다.\n",
    "- 층이 깊어질수록 정확한 분류가 가능해지지만, 너무 깊어지면 Overfitting이 발생한다.\n",
    "<div style=\"display: flex\">\n",
    "    <div>\n",
    "        <img src=\"./images/MLP01.png\" width=\"500\" style=\"margin-left: -30px\">\n",
    "    </div>\n",
    "    <div>\n",
    "        <img src=\"./images/MLP02.png\" width=\"600\" style=\"margin-top:50px; margin-left: -30px\">\n",
    "    </div>\n",
    "</div>\n"
   ]
  },
  {
   "cell_type": "code",
   "execution_count": null,
   "id": "a3a217d3",
   "metadata": {},
   "outputs": [],
   "source": []
  },
  {
   "cell_type": "code",
   "execution_count": 1,
   "id": "ffb6acb4",
   "metadata": {
    "scrolled": true
   },
   "outputs": [
    {
     "ename": "ModuleNotFoundError",
     "evalue": "No module named 'mglearn'",
     "output_type": "error",
     "traceback": [
      "\u001b[1;31m---------------------------------------------------------------------------\u001b[0m",
      "\u001b[1;31mModuleNotFoundError\u001b[0m                       Traceback (most recent call last)",
      "Cell \u001b[1;32mIn[1], line 1\u001b[0m\n\u001b[1;32m----> 1\u001b[0m \u001b[38;5;28;01mimport\u001b[39;00m \u001b[38;5;21;01mmglearn\u001b[39;00m\n\u001b[0;32m      2\u001b[0m display(mglearn\u001b[38;5;241m.\u001b[39mplots\u001b[38;5;241m.\u001b[39mplot_single_hidden_layer_graph())\n",
      "\u001b[1;31mModuleNotFoundError\u001b[0m: No module named 'mglearn'"
     ]
    }
   ],
   "source": [
    "import mglearn\n",
    "display(mglearn.plots.plot_single_hidden_layer_graph())"
   ]
  },
  {
   "cell_type": "markdown",
   "id": "1d74cd30",
   "metadata": {},
   "source": [
    "### BackPropagation, 역전파\n",
    "- 심층 신경망에서 최종 출력(예측)을 하기 위한 식이 생기지만 식이 너무 복잡해지기 때문에 편미분을 진행하기에 한계가 있다.\n",
    "- 즉, 편미분을 통해 가중치 값을 구하고, 경사 하강법을 통해 가중치 값을 업데이트하며 손실함수의 최소값(MSE)을 찾아야 하는데,  \n",
    "순방향으로는 복잡한 미분식을 계산할 수가 없다. 따라서 미분의 연쇄 법칙(Chain Rule)을 사용하여 역방향으로 편미분을 진행한다.\n",
    "\n",
    "##### 합성 함수의 미분\n",
    "<img src=\"./images/chain_rule01.png\" width=\"150\" style=\"margin-left: 0\">  \n",
    "\n",
    "---\n",
    "<img src=\"./images/chain_rule02.png\" width=\"550\" style=\"margin-left: 0\">\n",
    "\n",
    "##### 미분의 연쇄 법칙(Chain Rule)\n",
    "<div style=\"display: flex; margin-top:20px\">\n",
    "    <div>\n",
    "        <img src=\"./images/chain_rule03.png\" width=\"170\" style=\"margin-left: 0\">\n",
    "    </div>\n",
    "    <div>\n",
    "        <img src=\"./images/chain_rule04.png\" width=\"500\" style=\"margin-left: 50px\">\n",
    "    </div>\n",
    "</div>\n",
    "\n",
    "---\n",
    "<img src=\"./images/backpropagation01.png\" width=\"800\" style=\"margin-left: 0\">  \n",
    "<img src=\"./images/backpropagation02.png\" width=\"800\" style=\"margin-left: 0\">  \n",
    "<img src=\"./images/backpropagation03.png\" width=\"500\" style=\"margin-left: 0\">  "
   ]
  }
 ],
 "metadata": {
  "kernelspec": {
   "display_name": "Python 3 (ipykernel)",
   "language": "python",
   "name": "python3"
  },
  "language_info": {
   "codemirror_mode": {
    "name": "ipython",
    "version": 3
   },
   "file_extension": ".py",
   "mimetype": "text/x-python",
   "name": "python",
   "nbconvert_exporter": "python",
   "pygments_lexer": "ipython3",
   "version": "3.11.5"
  }
 },
 "nbformat": 4,
 "nbformat_minor": 5
}
